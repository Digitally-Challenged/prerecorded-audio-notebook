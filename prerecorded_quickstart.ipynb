{
  "cells": [
    {
      "cell_type": "markdown",
      "metadata": {
        "id": "view-in-github",
        "colab_type": "text"
      },
      "source": [
        "<a href=\"https://colab.research.google.com/github/Digitally-Challenged/prerecorded-audio-notebook/blob/main/prerecorded_quickstart.ipynb\" target=\"_parent\"><img src=\"https://colab.research.google.com/assets/colab-badge.svg\" alt=\"Open In Colab\"/></a>"
      ]
    },
    {
      "cell_type": "markdown",
      "metadata": {
        "id": "QcGaZD4P-jWV"
      },
      "source": [
        "# Transcribe any audio file with Deepgram!\n",
        "\n",
        "**Make a copy of this notebook into your own drive, and follow the instructions below!** 🥳🥳🥳\n",
        "\n",
        "\n",
        "----------------------------\n",
        "\n",
        "# Get started:\n",
        "Running the following three cells will allow you to transcribe any audio you wish. The comments below point out the variables you can manipulate to modify your output as you wish.\n",
        "\n",
        "Before running this notebook, you'll need to have a couple audio files on-hand\n",
        "that you wish to transcribe. Once you have those files in a folder, you should be able to transcribe as you please. Just specify the filepaths as outlined below!\n",
        "\n",
        "And by the way, if you haven't yet signed up for Deepgram, check out this link here: https://dpgr.am/prerecorded-notebook-signup"
      ]
    },
    {
      "cell_type": "markdown",
      "metadata": {
        "id": "LKoe99qp-jWY"
      },
      "source": [
        "# Step 1: Dependencies\n",
        "\n",
        "Run this cell to download all necessary dependencies.\n",
        "\n",
        "Note: You can run a cell by clicking the play button on the left or by clicking on the cell and pressing `shift`+`ENTER` at the same time. (Or `shift` + `return` on Mac)."
      ]
    },
    {
      "cell_type": "code",
      "execution_count": 1,
      "metadata": {
        "colab": {
          "base_uri": "https://localhost:8080/"
        },
        "id": "FgyI1J57-jWY",
        "outputId": "be37d2fe-a786-4f1e-a9fd-1eb9d633fbf5"
      },
      "outputs": [
        {
          "output_type": "stream",
          "name": "stdout",
          "text": [
            "Requirement already satisfied: requests in /usr/local/lib/python3.10/dist-packages (2.31.0)\n",
            "Collecting ffmpeg-python\n",
            "  Downloading ffmpeg_python-0.2.0-py3-none-any.whl (25 kB)\n",
            "Requirement already satisfied: charset-normalizer<4,>=2 in /usr/local/lib/python3.10/dist-packages (from requests) (3.3.2)\n",
            "Requirement already satisfied: idna<4,>=2.5 in /usr/local/lib/python3.10/dist-packages (from requests) (3.6)\n",
            "Requirement already satisfied: urllib3<3,>=1.21.1 in /usr/local/lib/python3.10/dist-packages (from requests) (2.0.7)\n",
            "Requirement already satisfied: certifi>=2017.4.17 in /usr/local/lib/python3.10/dist-packages (from requests) (2024.2.2)\n",
            "Requirement already satisfied: future in /usr/local/lib/python3.10/dist-packages (from ffmpeg-python) (0.18.3)\n",
            "Installing collected packages: ffmpeg-python\n",
            "Successfully installed ffmpeg-python-0.2.0\n",
            "Collecting deepgram-sdk\n",
            "  Downloading deepgram_sdk-3.2.3-py3-none-any.whl (79 kB)\n",
            "\u001b[2K     \u001b[90m━━━━━━━━━━━━━━━━━━━━━━━━━━━━━━━━━━━━━━━━\u001b[0m \u001b[32m79.6/79.6 kB\u001b[0m \u001b[31m1.6 MB/s\u001b[0m eta \u001b[36m0:00:00\u001b[0m\n",
            "\u001b[?25hCollecting httpx>=0.25.2 (from deepgram-sdk)\n",
            "  Downloading httpx-0.27.0-py3-none-any.whl (75 kB)\n",
            "\u001b[2K     \u001b[90m━━━━━━━━━━━━━━━━━━━━━━━━━━━━━━━━━━━━━━━━\u001b[0m \u001b[32m75.6/75.6 kB\u001b[0m \u001b[31m3.9 MB/s\u001b[0m eta \u001b[36m0:00:00\u001b[0m\n",
            "\u001b[?25hCollecting websockets>=12.0 (from deepgram-sdk)\n",
            "  Downloading websockets-12.0-cp310-cp310-manylinux_2_5_x86_64.manylinux1_x86_64.manylinux_2_17_x86_64.manylinux2014_x86_64.whl (130 kB)\n",
            "\u001b[2K     \u001b[90m━━━━━━━━━━━━━━━━━━━━━━━━━━━━━━━━━━━━━━━━\u001b[0m \u001b[32m130.2/130.2 kB\u001b[0m \u001b[31m4.9 MB/s\u001b[0m eta \u001b[36m0:00:00\u001b[0m\n",
            "\u001b[?25hCollecting dataclasses-json>=0.6.3 (from deepgram-sdk)\n",
            "  Downloading dataclasses_json-0.6.4-py3-none-any.whl (28 kB)\n",
            "Requirement already satisfied: typing-extensions>=4.9.0 in /usr/local/lib/python3.10/dist-packages (from deepgram-sdk) (4.10.0)\n",
            "Requirement already satisfied: aiohttp>=3.9.1 in /usr/local/lib/python3.10/dist-packages (from deepgram-sdk) (3.9.3)\n",
            "Collecting aiofiles>=23.2.1 (from deepgram-sdk)\n",
            "  Downloading aiofiles-23.2.1-py3-none-any.whl (15 kB)\n",
            "Collecting verboselogs>=1.7 (from deepgram-sdk)\n",
            "  Downloading verboselogs-1.7-py2.py3-none-any.whl (11 kB)\n",
            "Requirement already satisfied: aiosignal>=1.1.2 in /usr/local/lib/python3.10/dist-packages (from aiohttp>=3.9.1->deepgram-sdk) (1.3.1)\n",
            "Requirement already satisfied: attrs>=17.3.0 in /usr/local/lib/python3.10/dist-packages (from aiohttp>=3.9.1->deepgram-sdk) (23.2.0)\n",
            "Requirement already satisfied: frozenlist>=1.1.1 in /usr/local/lib/python3.10/dist-packages (from aiohttp>=3.9.1->deepgram-sdk) (1.4.1)\n",
            "Requirement already satisfied: multidict<7.0,>=4.5 in /usr/local/lib/python3.10/dist-packages (from aiohttp>=3.9.1->deepgram-sdk) (6.0.5)\n",
            "Requirement already satisfied: yarl<2.0,>=1.0 in /usr/local/lib/python3.10/dist-packages (from aiohttp>=3.9.1->deepgram-sdk) (1.9.4)\n",
            "Requirement already satisfied: async-timeout<5.0,>=4.0 in /usr/local/lib/python3.10/dist-packages (from aiohttp>=3.9.1->deepgram-sdk) (4.0.3)\n",
            "Collecting marshmallow<4.0.0,>=3.18.0 (from dataclasses-json>=0.6.3->deepgram-sdk)\n",
            "  Downloading marshmallow-3.21.1-py3-none-any.whl (49 kB)\n",
            "\u001b[2K     \u001b[90m━━━━━━━━━━━━━━━━━━━━━━━━━━━━━━━━━━━━━━━━\u001b[0m \u001b[32m49.4/49.4 kB\u001b[0m \u001b[31m3.8 MB/s\u001b[0m eta \u001b[36m0:00:00\u001b[0m\n",
            "\u001b[?25hCollecting typing-inspect<1,>=0.4.0 (from dataclasses-json>=0.6.3->deepgram-sdk)\n",
            "  Downloading typing_inspect-0.9.0-py3-none-any.whl (8.8 kB)\n",
            "Requirement already satisfied: anyio in /usr/local/lib/python3.10/dist-packages (from httpx>=0.25.2->deepgram-sdk) (3.7.1)\n",
            "Requirement already satisfied: certifi in /usr/local/lib/python3.10/dist-packages (from httpx>=0.25.2->deepgram-sdk) (2024.2.2)\n",
            "Collecting httpcore==1.* (from httpx>=0.25.2->deepgram-sdk)\n",
            "  Downloading httpcore-1.0.5-py3-none-any.whl (77 kB)\n",
            "\u001b[2K     \u001b[90m━━━━━━━━━━━━━━━━━━━━━━━━━━━━━━━━━━━━━━━━\u001b[0m \u001b[32m77.9/77.9 kB\u001b[0m \u001b[31m6.2 MB/s\u001b[0m eta \u001b[36m0:00:00\u001b[0m\n",
            "\u001b[?25hRequirement already satisfied: idna in /usr/local/lib/python3.10/dist-packages (from httpx>=0.25.2->deepgram-sdk) (3.6)\n",
            "Requirement already satisfied: sniffio in /usr/local/lib/python3.10/dist-packages (from httpx>=0.25.2->deepgram-sdk) (1.3.1)\n",
            "Collecting h11<0.15,>=0.13 (from httpcore==1.*->httpx>=0.25.2->deepgram-sdk)\n",
            "  Downloading h11-0.14.0-py3-none-any.whl (58 kB)\n",
            "\u001b[2K     \u001b[90m━━━━━━━━━━━━━━━━━━━━━━━━━━━━━━━━━━━━━━━━\u001b[0m \u001b[32m58.3/58.3 kB\u001b[0m \u001b[31m6.3 MB/s\u001b[0m eta \u001b[36m0:00:00\u001b[0m\n",
            "\u001b[?25hRequirement already satisfied: packaging>=17.0 in /usr/local/lib/python3.10/dist-packages (from marshmallow<4.0.0,>=3.18.0->dataclasses-json>=0.6.3->deepgram-sdk) (24.0)\n",
            "Collecting mypy-extensions>=0.3.0 (from typing-inspect<1,>=0.4.0->dataclasses-json>=0.6.3->deepgram-sdk)\n",
            "  Downloading mypy_extensions-1.0.0-py3-none-any.whl (4.7 kB)\n",
            "Requirement already satisfied: exceptiongroup in /usr/local/lib/python3.10/dist-packages (from anyio->httpx>=0.25.2->deepgram-sdk) (1.2.0)\n",
            "Installing collected packages: verboselogs, websockets, mypy-extensions, marshmallow, h11, aiofiles, typing-inspect, httpcore, httpx, dataclasses-json, deepgram-sdk\n",
            "Successfully installed aiofiles-23.2.1 dataclasses-json-0.6.4 deepgram-sdk-3.2.3 h11-0.14.0 httpcore-1.0.5 httpx-0.27.0 marshmallow-3.21.1 mypy-extensions-1.0.0 typing-inspect-0.9.0 verboselogs-1.7 websockets-12.0\n"
          ]
        }
      ],
      "source": [
        "! pip install requests ffmpeg-python\n",
        "! pip install deepgram-sdk --upgrade"
      ]
    },
    {
      "cell_type": "markdown",
      "metadata": {
        "id": "jDAk02o2-jWZ"
      },
      "source": [
        "# Step 2: Upload audio files to this Colab!\n",
        "\n",
        "On the left, you'll see a side-bar with a folder icon. Click that icon, and you'll see a series of folders. This is where you'll upload your audio files.\n",
        "\n",
        "You can upload your files directly into this directory by clicking the upload icon in the top left. The icon looks like a sheet of paper with an upwards-pointing arrow on it.\n",
        "\n",
        "Click the upload icon and select the audio file you wish to transcribe. It will take a few moments for the audio to appear, but once it does, move onto Step 3.\n",
        "\n",
        "(We have added an example audio, `preamble.wav` to this project.)"
      ]
    },
    {
      "cell_type": "code",
      "execution_count": 3,
      "metadata": {
        "id": "TYLqkoHo-jWZ"
      },
      "outputs": [],
      "source": [
        "# Have you completed Step 2 above? 👀\n",
        "# Do you see your audio file in the folder on the left? 📂"
      ]
    },
    {
      "cell_type": "markdown",
      "metadata": {
        "id": "SH43dIhF-jWZ"
      },
      "source": [
        "# Step 3: Transcription\n",
        "\n",
        "Fill in the following variables:\n",
        "\n",
        "\n",
        "* `DG_KEY` = Your personal Deepgram API key\n",
        "* `AUDIO_FILE` = The name of the audio file you wish to transcribe.\n",
        "\n",
        "\n",
        "Now run the cell! (`Shift` + `Enter`)\n",
        "\n",
        "-----------\n",
        "\n",
        "\n",
        "\n",
        "And by the way, if you're already a Deepgram user, and you're getting an error in this cell the most common fixes are:\n",
        "\n",
        "1. You may need to update your installation of the deepgram-sdk.\n",
        "2. You may need to check how many credits you have left in your Deepgram account."
      ]
    },
    {
      "cell_type": "code",
      "execution_count": 5,
      "metadata": {
        "colab": {
          "base_uri": "https://localhost:8080/"
        },
        "id": "o_9ShP8W-jWZ",
        "outputId": "8b9ead00-b1bd-48b3-a3dc-2998d1162008"
      },
      "outputs": [
        {
          "output_type": "stream",
          "name": "stdout",
          "text": [
            "Transcript JSON file generated successfully.\n"
          ]
        }
      ],
      "source": [
        "from deepgram import (\n",
        "    DeepgramClient,\n",
        "    PrerecordedOptions,\n",
        "    FileSource,\n",
        ")\n",
        "\n",
        "# Path to the audio file\n",
        "AUDIO_FILE = \"/content/2022-02-14_08.38.28+Bane_out.ogg\"\n",
        "# Path to save the transcript JSON file\n",
        "TRANSCRIPT_FILE = \"/content/transcript.json\"\n",
        "# Deepgram API key\n",
        "DG_KEY = \"4057d5f36e9ee7cb7b095d3139f443a47a2aa4a5\"\n",
        "\n",
        "\n",
        "def main():\n",
        "    try:\n",
        "        # STEP 1: Create a Deepgram client using the API key\n",
        "        deepgram = DeepgramClient(DG_KEY)\n",
        "\n",
        "        with open(AUDIO_FILE, \"rb\") as file:\n",
        "            buffer_data = file.read()\n",
        "\n",
        "        payload: FileSource = {\n",
        "            \"buffer\": buffer_data,\n",
        "        }\n",
        "\n",
        "        # STEP 2: Configure Deepgram options for audio analysis\n",
        "        options = PrerecordedOptions(\n",
        "            model=\"nova-2\",\n",
        "            smart_format=True,\n",
        "        )\n",
        "\n",
        "        # STEP 3: Call the transcribe_file method with the text payload and options\n",
        "        response = deepgram.listen.prerecorded.v(\"1\").transcribe_file(payload, options)\n",
        "\n",
        "        # STEP 4: Write the response JSON to a file\n",
        "        with open(TRANSCRIPT_FILE, \"w\") as transcript_file:\n",
        "            transcript_file.write(response.to_json(indent=4))\n",
        "\n",
        "        print(\"Transcript JSON file generated successfully.\")\n",
        "\n",
        "    except Exception as e:\n",
        "        print(f\"Exception: {e}\")\n",
        "\n",
        "if __name__ == \"__main__\":\n",
        "    main()"
      ]
    },
    {
      "cell_type": "code",
      "execution_count": null,
      "metadata": {
        "id": "bfJmi8uQ-jWZ"
      },
      "outputs": [],
      "source": [
        "'''\n",
        "If the cell above succeeds, you should see JSON output file(s) in the same directory\n",
        "as your audio files. Note: There may be a small delay between when\n",
        "the cell finishes running and when the JSON file actually appears.\n",
        "This is normal. Just wait a few moments for the JSONs to appear.\n",
        "It should take less than a minute, depending on the size of your file(s).\n",
        "'''"
      ]
    },
    {
      "cell_type": "markdown",
      "metadata": {
        "id": "BmEif-Jz-jWa"
      },
      "source": [
        "# Step 4: Check out your transcription!\n",
        "\n",
        "The function below parses the output JSON and prints out the pure transcription of one of the files you just transcribed! (Make sure\n",
        "the file you're trying to examine is indeed already loaded into the\n",
        "folder on the left!)\n",
        "\n",
        "**Set the `OUTPUT` variable to the name of the file you wish to see the transcription of.**\n",
        "\n",
        "Then run this cell (`Shift`+`Enter`) to see a sentence-by-sentence transcription of your audio!"
      ]
    },
    {
      "cell_type": "code",
      "execution_count": 6,
      "metadata": {
        "colab": {
          "base_uri": "https://localhost:8080/"
        },
        "id": "XB0HV-Jb-jWa",
        "outputId": "730100af-eb5d-447c-f8e9-492eba2ebeb9"
      },
      "outputs": [
        {
          "output_type": "stream",
          "name": "stdout",
          "text": [
            "Okay.\n",
            " This is our 8:30 setting.\n",
            " This is the setting for miss Connie Sue Bain.\n",
            " Social Security number 432-37850.\n",
            " This was an 8:30 setting.\n",
            " The time is 8:38 AM CST.\n",
            " The date February 14, 2022.\n",
            " I have miss Bain on the screen as well as mister Coleman, her attorney.\n",
            " Likewise, we have, miss Beth Drury, our vocational expert.\n",
            " I believe she's from Houma, Louisiana.\n",
            " Likewise, appearing as well is our medical expert, Doctor.\n",
            " Gerald Frankel.\n",
            " Thank you again folks for working with us this morning.\n",
            " Okay, counsel.\n",
            " We're we're here today by, video as, miss Bane, you're certainly entitled to a live hearing if you so desire.\n",
            " I believe this is your counsel, I believe this is the 4th hearing in miss Fane's case.\n",
            " 5th.\n",
            " It's not Yeah.\n",
            " Okay.\n",
            " Very well.\n",
            " Yeah.\n",
            " I knew there had been a series of hearings that I've heard it previously.\n",
            " This is on a remand.\n",
            " Miss Payne, if you so desire, you're not limited to a video hearing.\n",
            " If you so desire, you can advise me and mister Coleman that you wish you desire a live hearing, at which time I'll reset your case for a live hearing.\n",
            " Do you wish to proceed with the video hearing? Yes, sir.\n",
            " Okay.\n",
            " Very well.\n",
            " Thank you.\n",
            " Okay, counsel, we have, we have a vocational expert's resume as well as Doctor.\n",
            " Franken's, resume as well.\n",
            " We have a date last insured in this case of December 31, 2015.\n",
            " This is our I think you've alluded to our 5th hearing.\n",
            " Is there anything else for us to collect on or before December 31, 2015? No, sir.\n",
            " I believe the record is fully developed.\n",
            " Okay.\n",
            " Very well.\n",
            " In in light of that fact, counsel, we will admit exhibits 1A through exhibits, looks like we are down to 24F.\n",
            " F.\n",
            " A side note here, counsel, when I was looking, this man has alleged an onset date of November 14, 2010.\n",
            " November 14, 2010.\n",
            " And when I go back when I was reading this file, going through it, I don't see any medical records.\n",
            " The earliest record I'm showing is, I think this is doctor Talley at, in 2 F, which is dated July 19, 2011.\n",
            " Yes, your honor.\n",
            " Miss Bain amended her onset at the first hearing to January 30, 2013, our 50th birthday.\n",
            " January okay.\n",
            " January 30th.\n",
            " Okay.\n",
            " That clarifies it.\n",
            " Thank you.\n",
            " January 30, 2015.\n",
            " Counsel, I take it this bank is a waiver of a 2013, your Honor.\n",
            " 13.\n",
            " Okay.\n",
            " Okay.\n",
            " Very well.\n",
            " Ms.\n",
            " Vane, are you aware of the consequences of amending in the event of a favorable decision amending till January 30, 2013? Yes, sir.\n",
            " Okay.\n",
            " Very well.\n",
            " Kimberly, let the record reflect that amended on onset date January 30, 2013.\n",
            " Okay.\n",
            " Witnesses, if you please raise your right hand, I'll swear you in in mass.\n",
            " Do each of you swear and affirm that the testimony you're about to provide at this hearing will be the truth, the whole truth, and nothing but the truth? Yes.\n",
            " That's correct.\n",
            " I do.\n",
            " Okay.\n",
            " Miss Bain, do you okay.\n",
            " Very well.\n",
            " Miss Bain, me and you will begin the questions and answers.\n",
            " Your name, please? Connie Sue Bain.\n",
            " Okay.\n",
            " Miss Bain, your mailing address, ma'am? 34100 Highway 9 Leola, Arkansas 72084.\n",
            " Okay.\n",
            " And, miss Vane, at the time of the date you were last insured, December 31, 20 15, you were 52 years of age? Yes, sir.\n",
            " Okay.\n",
            " Ma'am, you have 2 years of college? Yes, sir.\n",
            " Okay.\n",
            " And, miss Vain, could you tell me what your what your last job was and when it was? I worked for the state of Arkansas, for the Department of Workforce Services.\n",
            " I was a veteran employment rep.\n",
            " And briefly, what did you do on that job? I helped, people find jobs.\n",
            " Helped them file for unemployment benefits.\n",
            " I helped them build their resumes, and I also went and talked to employers and made a rapport with them.\n",
            " Okay.\n",
            " Did you work in any aspect of VA disability in the event a person was unable to get a job? Were you involved in that aspect? No, sir.\n",
            " I would refer them to the county veterans rep who would help them Okay.\n",
            " In that sense.\n",
            " Okay.\n",
            " Understood.\n",
            " And and I had the opportunity.\n",
            " I looked the last time we were together at my prior notes, but, I I wanna ask you, why do you feel that you're disabled, Pam? Well, sir, it's a little embarrassing to talk about it.\n",
            " But with my mindset and with my problems that I have, I don't think there's an employer that would actually hire me.\n",
            " Okay.\n",
            " With all my problems that I have because I there's no way I could do a job and perform it a 100% every day.\n",
            " K.\n",
            " And could you tell me and mister Coleman, what are your impairments? What are your what what conditions are you referencing? Are you asking me or may Yes, ma'am.\n",
            " No.\n",
            " No.\n",
            " You're the claimant here, and tell tell us what impairments you're alleging, resulting in your disability on or before December 31, 2015? The the stress incontinence? I've had 2 bladder spleen, depression, migraine headaches, fibromyalgia.\n",
            " With my fibromyalgia, I never know, you know, what I'm gonna be doing one day to the next.\n",
            " And then my fatigue, which is a lot to do with the fibromyalgia.\n",
            " But the stress incontinence is one of the most embarrassing one, I guess.\n",
            " Okay.\n",
            " Counsel, as to the fibromyalgia, you know, I've seen it referenced within the medical records.\n",
            " As you know what is it, Social Security Ruling 12-2P regarding the necessary tender points and the equal distribution of the tender points.\n",
            " I don't recall in seeing in in seeing that.\n",
            " I do recall seeing a diagnosis, but pursuant to what is it, 12 2 p, I'm gonna need I'm gonna need that criteria.\n",
            " We will the record will not show the, 11 out of 18 tender spot testing.\n",
            " It it has been she's been assigned the diagnosis several in several reports, but we will not be able to show the tender spot testing required under 12 2p.\n",
            " Very well.\n",
            " Thank you.\n",
            " Okay, ma'am.\n",
            " Let's go let's talk about your headaches.\n",
            " Did you have headaches on or before December 31, 2015? Yes, sir.\n",
            " Okay.\n",
            " Did you report your headaches to doctor Tilly? I am.\n",
            " Yes, sir.\n",
            " Okay.\n",
            " And on or before December 31, 2015, what was the frequency of your headaches? I'm trying to think back.\n",
            " It's been such a long time.\n",
            " But even when I was in the army, I had my headache.\n",
            " Okay.\n",
            " The frequency of my headaches before, I would say I would have 1 to 2 a week.\n",
            " Okay.\n",
            " Sometimes it wasn't that bad, but sometimes it was so bad that I might be in bed for 2 days.\n",
            " Okay.\n",
            " Was it was your headaches during this time period on or before December 31, 2015? Were some of your headaches not migraine in nature? Some of them were not.\n",
            " I I tell my doctor.\n",
            " I have a headache every day when I wake up.\n",
            " Some of them develop into a migraine.\n",
            " Sometimes they don't develop into a migraine.\n",
            " But when they do, that's the days that I can't I can't see.\n",
            " I I get dizzy.\n",
            " I get nauseous.\n",
            " I can't see on those days? Sometimes I can't.\n",
            " My vision is blurred.\n",
            " Sometimes on those days, yes, sir.\n",
            " And this was on or before December 31, 2015? Yes, sir.\n",
            " Okay.\n",
            " Very, very well.\n",
            " Or were you taking a medicine for your migraine headaches on or before December 31, 2015? Yes, sir.\n",
            " I've taken several, I've taken several.\n",
            " Some of them did not help.\n",
            " Well, actually, I don't.\n"
          ]
        }
      ],
      "source": [
        "import json\n",
        "# Set this variable to the path of the output file you wish to read\n",
        "OUTPUT = 'transcript.json'\n",
        "\n",
        "\n",
        "# The JSON is loaded with information, but if you just want to read the\n",
        "# transcript, run the code below!\n",
        "def print_transcript(transcription_file):\n",
        "  with open(transcription_file, \"r\") as file:\n",
        "        data = json.load(file)\n",
        "        result = data['results']['channels'][0]['alternatives'][0]['transcript']\n",
        "        result = result.split('.')\n",
        "        for sentence in result:\n",
        "          print(sentence + '.')\n",
        "\n",
        "print_transcript(OUTPUT)"
      ]
    }
  ],
  "metadata": {
    "kernelspec": {
      "display_name": "sdk",
      "language": "python",
      "name": "python3"
    },
    "language_info": {
      "codemirror_mode": {
        "name": "ipython",
        "version": 3
      },
      "file_extension": ".py",
      "mimetype": "text/x-python",
      "name": "python",
      "nbconvert_exporter": "python",
      "pygments_lexer": "ipython3",
      "version": "3.10.10"
    },
    "colab": {
      "provenance": [],
      "include_colab_link": true
    }
  },
  "nbformat": 4,
  "nbformat_minor": 0
}