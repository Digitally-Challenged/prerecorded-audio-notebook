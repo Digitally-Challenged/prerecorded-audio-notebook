{
 "cells": [
  {
   "cell_type": "markdown",
   "metadata": {},
   "source": [
    "# Transcribe any audio file with Deepgram!\n",
    "\n",
    "**Make a copy of this notebook into your own drive, and follow the instructions below!** 🥳🥳🥳\n",
    "\n",
    "\n",
    "----------------------------\n",
    "\n",
    "# Get started:\n",
    "Running the following three cells will allow you to transcribe any audio you wish. The comments below point out the variables you can manipulate to modify your output as you wish.\n",
    "\n",
    "Before running this notebook, you'll need to have a couple audio files on-hand\n",
    "that you wish to transcribe. Once you have those files in a folder, you should be able to transcribe as you please. Just specify the filepaths as outlined below!\n",
    "\n",
    "And by the way, if you haven't yet signed up for Deepgram, check out this link here: https://dpgr.am/prerecorded-notebook-signup"
   ]
  },
  {
   "cell_type": "markdown",
   "metadata": {},
   "source": [
    "# Step 1: Dependencies\n",
    "\n",
    "Run this cell to download all necessary dependencies.\n",
    "\n",
    "Note: You can run a cell by clicking the play button on the left or by clicking on the cell and pressing `shift`+`ENTER` at the same time. (Or `shift` + `return` on Mac)."
   ]
  },
  {
   "cell_type": "code",
   "execution_count": 1,
   "metadata": {},
   "outputs": [
    {
     "name": "stdout",
     "output_type": "stream",
     "text": [
      "Collecting requests\n",
      "  Using cached requests-2.31.0-py3-none-any.whl.metadata (4.6 kB)\n",
      "Collecting ffmpeg-python\n",
      "  Downloading ffmpeg_python-0.2.0-py3-none-any.whl (25 kB)\n",
      "Requirement already satisfied: charset-normalizer<4,>=2 in /Users/sandrarodgers/.pyenv/versions/3.10.10/envs/sdk/lib/python3.10/site-packages (from requests) (3.3.2)\n",
      "Requirement already satisfied: idna<4,>=2.5 in /Users/sandrarodgers/.pyenv/versions/3.10.10/envs/sdk/lib/python3.10/site-packages (from requests) (3.4)\n",
      "Collecting urllib3<3,>=1.21.1 (from requests)\n",
      "  Using cached urllib3-2.2.0-py3-none-any.whl.metadata (6.4 kB)\n",
      "Requirement already satisfied: certifi>=2017.4.17 in /Users/sandrarodgers/.pyenv/versions/3.10.10/envs/sdk/lib/python3.10/site-packages (from requests) (2023.7.22)\n",
      "Collecting future (from ffmpeg-python)\n",
      "  Downloading future-0.18.3.tar.gz (840 kB)\n",
      "\u001b[2K     \u001b[38;2;114;156;31m━━━━━━━━━━━━━━━━━━━━━━━━━━━━━━━━━━━━━━\u001b[0m \u001b[32m840.9/840.9 kB\u001b[0m \u001b[31m11.6 MB/s\u001b[0m eta \u001b[36m0:00:00\u001b[0m31m13.7 MB/s\u001b[0m eta \u001b[36m0:00:01\u001b[0m\n",
      "\u001b[?25h  Preparing metadata (setup.py) ... \u001b[?25ldone\n",
      "\u001b[?25hUsing cached requests-2.31.0-py3-none-any.whl (62 kB)\n",
      "Using cached urllib3-2.2.0-py3-none-any.whl (120 kB)\n",
      "Building wheels for collected packages: future\n",
      "  Building wheel for future (setup.py) ... \u001b[?25ldone\n",
      "\u001b[?25h  Created wheel for future: filename=future-0.18.3-py3-none-any.whl size=492024 sha256=f444ec36f6af82c3a189a1e464d1cd66a8ec3b6948ef4126716462f50e92b134\n",
      "  Stored in directory: /Users/sandrarodgers/Library/Caches/pip/wheels/5e/a9/47/f118e66afd12240e4662752cc22cefae5d97275623aa8ef57d\n",
      "Successfully built future\n",
      "Installing collected packages: urllib3, future, requests, ffmpeg-python\n",
      "Successfully installed ffmpeg-python-0.2.0 future-0.18.3 requests-2.31.0 urllib3-2.2.0\n",
      "\n",
      "\u001b[1m[\u001b[0m\u001b[34;49mnotice\u001b[0m\u001b[1;39;49m]\u001b[0m\u001b[39;49m A new release of pip is available: \u001b[0m\u001b[31;49m23.3.1\u001b[0m\u001b[39;49m -> \u001b[0m\u001b[32;49m24.0\u001b[0m\n",
      "\u001b[1m[\u001b[0m\u001b[34;49mnotice\u001b[0m\u001b[1;39;49m]\u001b[0m\u001b[39;49m To update, run: \u001b[0m\u001b[32;49mpip install --upgrade pip\u001b[0m\n",
      "Requirement already satisfied: deepgram-sdk in /Users/sandrarodgers/.pyenv/versions/3.10.10/envs/sdk/lib/python3.10/site-packages (0.0.0)\n",
      "Collecting deepgram-sdk\n",
      "  Using cached deepgram_sdk-3.1.3-py3-none-any.whl.metadata (9.4 kB)\n",
      "Collecting httpx>=0.25.2 (from deepgram-sdk)\n",
      "  Using cached httpx-0.26.0-py3-none-any.whl.metadata (7.6 kB)\n",
      "Requirement already satisfied: websockets>=12.0 in /Users/sandrarodgers/.pyenv/versions/3.10.10/envs/sdk/lib/python3.10/site-packages (from deepgram-sdk) (12.0)\n",
      "Collecting dataclasses-json>=0.6.3 (from deepgram-sdk)\n",
      "  Using cached dataclasses_json-0.6.4-py3-none-any.whl.metadata (25 kB)\n",
      "Collecting typing-extensions>=4.9.0 (from deepgram-sdk)\n",
      "  Using cached typing_extensions-4.9.0-py3-none-any.whl.metadata (3.0 kB)\n",
      "Collecting aiohttp>=3.9.1 (from deepgram-sdk)\n",
      "  Using cached aiohttp-3.9.3-cp310-cp310-macosx_10_9_x86_64.whl.metadata (7.4 kB)\n",
      "Requirement already satisfied: verboselogs>=1.7 in /Users/sandrarodgers/.pyenv/versions/3.10.10/envs/sdk/lib/python3.10/site-packages (from deepgram-sdk) (1.7)\n",
      "Requirement already satisfied: aiosignal>=1.1.2 in /Users/sandrarodgers/.pyenv/versions/3.10.10/envs/sdk/lib/python3.10/site-packages (from aiohttp>=3.9.1->deepgram-sdk) (1.3.1)\n",
      "Requirement already satisfied: attrs>=17.3.0 in /Users/sandrarodgers/.pyenv/versions/3.10.10/envs/sdk/lib/python3.10/site-packages (from aiohttp>=3.9.1->deepgram-sdk) (23.1.0)\n",
      "Requirement already satisfied: frozenlist>=1.1.1 in /Users/sandrarodgers/.pyenv/versions/3.10.10/envs/sdk/lib/python3.10/site-packages (from aiohttp>=3.9.1->deepgram-sdk) (1.4.0)\n",
      "Requirement already satisfied: multidict<7.0,>=4.5 in /Users/sandrarodgers/.pyenv/versions/3.10.10/envs/sdk/lib/python3.10/site-packages (from aiohttp>=3.9.1->deepgram-sdk) (6.0.4)\n",
      "Requirement already satisfied: yarl<2.0,>=1.0 in /Users/sandrarodgers/.pyenv/versions/3.10.10/envs/sdk/lib/python3.10/site-packages (from aiohttp>=3.9.1->deepgram-sdk) (1.9.2)\n",
      "Requirement already satisfied: async-timeout<5.0,>=4.0 in /Users/sandrarodgers/.pyenv/versions/3.10.10/envs/sdk/lib/python3.10/site-packages (from aiohttp>=3.9.1->deepgram-sdk) (4.0.3)\n",
      "Requirement already satisfied: marshmallow<4.0.0,>=3.18.0 in /Users/sandrarodgers/.pyenv/versions/3.10.10/envs/sdk/lib/python3.10/site-packages (from dataclasses-json>=0.6.3->deepgram-sdk) (3.20.1)\n",
      "Requirement already satisfied: typing-inspect<1,>=0.4.0 in /Users/sandrarodgers/.pyenv/versions/3.10.10/envs/sdk/lib/python3.10/site-packages (from dataclasses-json>=0.6.3->deepgram-sdk) (0.9.0)\n",
      "Requirement already satisfied: anyio in /Users/sandrarodgers/.pyenv/versions/3.10.10/envs/sdk/lib/python3.10/site-packages (from httpx>=0.25.2->deepgram-sdk) (4.0.0)\n",
      "Requirement already satisfied: certifi in /Users/sandrarodgers/.pyenv/versions/3.10.10/envs/sdk/lib/python3.10/site-packages (from httpx>=0.25.2->deepgram-sdk) (2023.7.22)\n",
      "Requirement already satisfied: httpcore==1.* in /Users/sandrarodgers/.pyenv/versions/3.10.10/envs/sdk/lib/python3.10/site-packages (from httpx>=0.25.2->deepgram-sdk) (1.0.2)\n",
      "Requirement already satisfied: idna in /Users/sandrarodgers/.pyenv/versions/3.10.10/envs/sdk/lib/python3.10/site-packages (from httpx>=0.25.2->deepgram-sdk) (3.4)\n",
      "Requirement already satisfied: sniffio in /Users/sandrarodgers/.pyenv/versions/3.10.10/envs/sdk/lib/python3.10/site-packages (from httpx>=0.25.2->deepgram-sdk) (1.3.0)\n",
      "Requirement already satisfied: h11<0.15,>=0.13 in /Users/sandrarodgers/.pyenv/versions/3.10.10/envs/sdk/lib/python3.10/site-packages (from httpcore==1.*->httpx>=0.25.2->deepgram-sdk) (0.14.0)\n",
      "Requirement already satisfied: packaging>=17.0 in /Users/sandrarodgers/.pyenv/versions/3.10.10/envs/sdk/lib/python3.10/site-packages (from marshmallow<4.0.0,>=3.18.0->dataclasses-json>=0.6.3->deepgram-sdk) (23.2)\n",
      "Requirement already satisfied: mypy-extensions>=0.3.0 in /Users/sandrarodgers/.pyenv/versions/3.10.10/envs/sdk/lib/python3.10/site-packages (from typing-inspect<1,>=0.4.0->dataclasses-json>=0.6.3->deepgram-sdk) (1.0.0)\n",
      "Requirement already satisfied: exceptiongroup>=1.0.2 in /Users/sandrarodgers/.pyenv/versions/3.10.10/envs/sdk/lib/python3.10/site-packages (from anyio->httpx>=0.25.2->deepgram-sdk) (1.1.3)\n",
      "Using cached deepgram_sdk-3.1.3-py3-none-any.whl (66 kB)\n",
      "Using cached aiohttp-3.9.3-cp310-cp310-macosx_10_9_x86_64.whl (397 kB)\n",
      "Using cached dataclasses_json-0.6.4-py3-none-any.whl (28 kB)\n",
      "Using cached httpx-0.26.0-py3-none-any.whl (75 kB)\n",
      "Using cached typing_extensions-4.9.0-py3-none-any.whl (32 kB)\n",
      "Installing collected packages: typing-extensions, httpx, aiohttp, dataclasses-json, deepgram-sdk\n",
      "  Attempting uninstall: typing-extensions\n",
      "    Found existing installation: typing_extensions 4.8.0\n",
      "    Uninstalling typing_extensions-4.8.0:\n",
      "      Successfully uninstalled typing_extensions-4.8.0\n",
      "  Attempting uninstall: httpx\n",
      "    Found existing installation: httpx 0.25.1\n",
      "    Uninstalling httpx-0.25.1:\n",
      "      Successfully uninstalled httpx-0.25.1\n",
      "  Attempting uninstall: aiohttp\n",
      "    Found existing installation: aiohttp 3.8.6\n",
      "    Uninstalling aiohttp-3.8.6:\n",
      "      Successfully uninstalled aiohttp-3.8.6\n",
      "  Attempting uninstall: dataclasses-json\n",
      "    Found existing installation: dataclasses-json 0.6.2\n",
      "    Uninstalling dataclasses-json-0.6.2:\n",
      "      Successfully uninstalled dataclasses-json-0.6.2\n",
      "  Attempting uninstall: deepgram-sdk\n",
      "    Found existing installation: deepgram-sdk 0.0.0\n",
      "    Uninstalling deepgram-sdk-0.0.0:\n",
      "      Successfully uninstalled deepgram-sdk-0.0.0\n",
      "Successfully installed aiohttp-3.9.3 dataclasses-json-0.6.4 deepgram-sdk-3.1.3 httpx-0.26.0 typing-extensions-4.9.0\n",
      "\n",
      "\u001b[1m[\u001b[0m\u001b[34;49mnotice\u001b[0m\u001b[1;39;49m]\u001b[0m\u001b[39;49m A new release of pip is available: \u001b[0m\u001b[31;49m23.3.1\u001b[0m\u001b[39;49m -> \u001b[0m\u001b[32;49m24.0\u001b[0m\n",
      "\u001b[1m[\u001b[0m\u001b[34;49mnotice\u001b[0m\u001b[1;39;49m]\u001b[0m\u001b[39;49m To update, run: \u001b[0m\u001b[32;49mpip install --upgrade pip\u001b[0m\n"
     ]
    }
   ],
   "source": [
    "! pip install requests ffmpeg-python\n",
    "! pip install deepgram-sdk --upgrade"
   ]
  },
  {
   "cell_type": "markdown",
   "metadata": {},
   "source": [
    "# Step 2: Upload audio files to this Colab!\n",
    "\n",
    "On the left, you'll see a side-bar with a folder icon. Click that icon, and you'll see a series of folders. This is where you'll upload your audios.\n",
    "\n",
    "You can upload your files directly into this directory by clicking the upload icon in the top left. The icon looks like a sheet of paper with an upwards-pointing arrow on it.\n",
    "\n",
    "Click the upload icon and select the audio file you wish to transcribe. It will take a few moments for the audio to appear, but once it does, move onto Step 3."
   ]
  },
  {
   "cell_type": "code",
   "execution_count": 2,
   "metadata": {},
   "outputs": [],
   "source": [
    "# Have you completed Step 2 above? 👀\n",
    "# Do you see your audio file in the folder on the left? 📂 "
   ]
  },
  {
   "cell_type": "markdown",
   "metadata": {},
   "source": [
    "# Step 3: Transcription\n",
    "\n",
    "Fill in the following variables:\n",
    "\n",
    "\n",
    "* `dg_key` = Your personal Deepgram API key\n",
    "* `MIMETYPE` = the type of audio file you're working with (mp3, mp4, m4a, etc.)\n",
    "* `DIRECTORY` = The name of the folder that contains the audio(s) you wish to transcribe. Note, unless you created a new folder for your audios, the default `'.'` value should be fine. (Or, if you placed your audio file in the default `sample_data` folder, set the value of `DIRECTORY` to `sample_data`.)\n",
    "\n",
    "\n",
    "Now run the cell! (`Shift` + `Enter`)\n",
    "\n",
    "-----------\n",
    "\n",
    "\n",
    "\n",
    "And by the way, if you're already a Deepgram user, and you're getting an error in this cell the most common fixes are:\n",
    "\n",
    "1. You may need to update your installation of the deepgram-sdk.\n",
    "2. You may need to check how many credits you have left in your Deepgram account."
   ]
  },
  {
   "cell_type": "code",
   "execution_count": null,
   "metadata": {},
   "outputs": [],
   "source": []
  },
  {
   "cell_type": "code",
   "execution_count": 3,
   "metadata": {},
   "outputs": [
    {
     "ename": "Exception",
     "evalue": "\n            FATAL ERROR:\n            You are attempting to instantiate a Deepgram object, which is no longer a class in version 3 of this SDK.\n\n            To fix this issue:\n                1. You need to revert to the previous version 2 of the SDK: pip install deepgram-sdk==2.12.0\n                2. or, update your application's code to use version 3 of this SDK. See the README for more information.\n\n            Things to consider:\n\n                - This Version 3 of the SDK requires Python 3.10 or higher.\n                  Older versions (3.9 and lower) of Python are nearing end-of-life: https://devguide.python.org/versions/\n                  Understand the risks of using a version of Python nearing EOL.\n\n                - Version 2 of the SDK will receive maintenance updates in the form of security fixes only.\n                  No new features will be added to version 2 of the SDK.\n            ",
     "output_type": "error",
     "traceback": [
      "\u001b[0;31m---------------------------------------------------------------------------\u001b[0m",
      "\u001b[0;31mException\u001b[0m                                 Traceback (most recent call last)",
      "Cell \u001b[0;32mIn[3], line 10\u001b[0m\n\u001b[1;32m      4\u001b[0m \u001b[38;5;124;03m'''\u001b[39;00m\n\u001b[1;32m      5\u001b[0m \u001b[38;5;124;03m Sign up at https://console.deepgram.com/signup\u001b[39;00m\n\u001b[1;32m      6\u001b[0m \u001b[38;5;124;03m to get an API key and 12,000 minutes\u001b[39;00m\n\u001b[1;32m      7\u001b[0m \u001b[38;5;124;03m for free!\u001b[39;00m\n\u001b[1;32m      8\u001b[0m \u001b[38;5;124;03m'''\u001b[39;00m\n\u001b[1;32m      9\u001b[0m dg_key \u001b[38;5;241m=\u001b[39m \u001b[38;5;124m'\u001b[39m\u001b[38;5;124m🔑🔑🔑 Your key here 🔑🔑🔑\u001b[39m\u001b[38;5;124m'\u001b[39m\n\u001b[0;32m---> 10\u001b[0m dg \u001b[38;5;241m=\u001b[39m \u001b[43mDeepgram\u001b[49m\u001b[43m(\u001b[49m\u001b[43mdg_key\u001b[49m\u001b[43m)\u001b[49m\n\u001b[1;32m     13\u001b[0m \u001b[38;5;124;03m'''\u001b[39;00m\n\u001b[1;32m     14\u001b[0m \u001b[38;5;124;03mThe most common audio formats and encodings we support \u001b[39;00m\n\u001b[1;32m     15\u001b[0m \u001b[38;5;124;03minclude mp3, mp4, mp2, aac, wav, flac, pcm, m4a, ogg, opus, and webm,\u001b[39;00m\n\u001b[1;32m     16\u001b[0m \u001b[38;5;124;03mSo feel free to adjust the `MIMETYPE` variable as needed\u001b[39;00m\n\u001b[1;32m     17\u001b[0m \u001b[38;5;124;03m'''\u001b[39;00m\n\u001b[1;32m     18\u001b[0m MIMETYPE \u001b[38;5;241m=\u001b[39m \u001b[38;5;124m'\u001b[39m\u001b[38;5;124mmp3\u001b[39m\u001b[38;5;124m'\u001b[39m\n",
      "File \u001b[0;32m~/.pyenv/versions/3.10.10/envs/sdk/lib/python3.10/site-packages/deepgram/client.py:108\u001b[0m, in \u001b[0;36mDeepgram.__init__\u001b[0;34m(self, *anything)\u001b[0m\n\u001b[1;32m    107\u001b[0m \u001b[38;5;28;01mdef\u001b[39;00m \u001b[38;5;21m__init__\u001b[39m(\u001b[38;5;28mself\u001b[39m, \u001b[38;5;241m*\u001b[39manything):\n\u001b[0;32m--> 108\u001b[0m     \u001b[38;5;28;01mraise\u001b[39;00m \u001b[38;5;167;01mException\u001b[39;00m(\n\u001b[1;32m    109\u001b[0m \u001b[38;5;250m        \u001b[39m\u001b[38;5;124;03m\"\"\"\u001b[39;00m\n\u001b[1;32m    110\u001b[0m \u001b[38;5;124;03m        FATAL ERROR:\u001b[39;00m\n\u001b[1;32m    111\u001b[0m \u001b[38;5;124;03m        You are attempting to instantiate a Deepgram object, which is no longer a class in version 3 of this SDK.\u001b[39;00m\n\u001b[1;32m    112\u001b[0m \n\u001b[1;32m    113\u001b[0m \u001b[38;5;124;03m        To fix this issue:\u001b[39;00m\n\u001b[1;32m    114\u001b[0m \u001b[38;5;124;03m            1. You need to revert to the previous version 2 of the SDK: pip install deepgram-sdk==2.12.0\u001b[39;00m\n\u001b[1;32m    115\u001b[0m \u001b[38;5;124;03m            2. or, update your application's code to use version 3 of this SDK. See the README for more information.\u001b[39;00m\n\u001b[1;32m    116\u001b[0m \n\u001b[1;32m    117\u001b[0m \u001b[38;5;124;03m        Things to consider:\u001b[39;00m\n\u001b[1;32m    118\u001b[0m \n\u001b[1;32m    119\u001b[0m \u001b[38;5;124;03m            - This Version 3 of the SDK requires Python 3.10 or higher.\u001b[39;00m\n\u001b[1;32m    120\u001b[0m \u001b[38;5;124;03m              Older versions (3.9 and lower) of Python are nearing end-of-life: https://devguide.python.org/versions/\u001b[39;00m\n\u001b[1;32m    121\u001b[0m \u001b[38;5;124;03m              Understand the risks of using a version of Python nearing EOL.\u001b[39;00m\n\u001b[1;32m    122\u001b[0m \n\u001b[1;32m    123\u001b[0m \u001b[38;5;124;03m            - Version 2 of the SDK will receive maintenance updates in the form of security fixes only.\u001b[39;00m\n\u001b[1;32m    124\u001b[0m \u001b[38;5;124;03m              No new features will be added to version 2 of the SDK.\u001b[39;00m\n\u001b[1;32m    125\u001b[0m \u001b[38;5;124;03m        \"\"\"\u001b[39;00m\n\u001b[1;32m    126\u001b[0m     )\n",
      "\u001b[0;31mException\u001b[0m: \n            FATAL ERROR:\n            You are attempting to instantiate a Deepgram object, which is no longer a class in version 3 of this SDK.\n\n            To fix this issue:\n                1. You need to revert to the previous version 2 of the SDK: pip install deepgram-sdk==2.12.0\n                2. or, update your application's code to use version 3 of this SDK. See the README for more information.\n\n            Things to consider:\n\n                - This Version 3 of the SDK requires Python 3.10 or higher.\n                  Older versions (3.9 and lower) of Python are nearing end-of-life: https://devguide.python.org/versions/\n                  Understand the risks of using a version of Python nearing EOL.\n\n                - Version 2 of the SDK will receive maintenance updates in the form of security fixes only.\n                  No new features will be added to version 2 of the SDK.\n            "
     ]
    }
   ],
   "source": [
    "from deepgram import Deepgram\n",
    "import asyncio, json, os\n",
    "\n",
    "'''\n",
    " Sign up at https://console.deepgram.com/signup\n",
    " to get an API key and 12,000 minutes\n",
    " for free!\n",
    "'''\n",
    "dg_key = '🔑🔑🔑 Your key here 🔑🔑🔑'\n",
    "dg = Deepgram(dg_key)\n",
    "\n",
    "\n",
    "'''\n",
    "The most common audio formats and encodings we support \n",
    "include mp3, mp4, mp2, aac, wav, flac, pcm, m4a, ogg, opus, and webm,\n",
    "So feel free to adjust the `MIMETYPE` variable as needed\n",
    "'''\n",
    "MIMETYPE = 'mp3'\n",
    "\n",
    "#Note: You can use '.' if your audio is in the root\n",
    "DIRECTORY = 'Directory name goes here!'  \n",
    "\n",
    "\n",
    "# Feel free to modify your model's parameters as you wish!\n",
    "options = {\n",
    "    \"punctuate\": True,\n",
    "    \"model\": 'general',\n",
    "    \"tier\": 'enhanced'\n",
    "}\n",
    "\n",
    "#This function is what calls on the model to transcribe\n",
    "def main():\n",
    "    audio_folder = os.listdir(DIRECTORY)\n",
    "    for audio_file in audio_folder:\n",
    "        if audio_file.endswith(MIMETYPE):\n",
    "          with open(f\"{DIRECTORY}/{audio_file}\", \"rb\") as f:\n",
    "              source = {\"buffer\": f, \"mimetype\":'audio/'+MIMETYPE}\n",
    "              res = dg.transcription.sync_prerecorded(source, options)\n",
    "              with open(f\"./{audio_file[:-4]}.json\", \"w\") as transcript:\n",
    "                  json.dump(res, transcript)\n",
    "    return\n",
    "\n",
    "main()"
   ]
  },
  {
   "cell_type": "code",
   "execution_count": null,
   "metadata": {},
   "outputs": [],
   "source": [
    "'''\n",
    "If the cell above succeeds, you should see JSON output file(s) as siblings \n",
    "next to your audio files. Note: There may be a small delay between when \n",
    "the cell finishes running and when the JSON appears. This is normal. Just wait\n",
    "a few moments for the JSONs to appear. It should take less than a minute,\n",
    "depending on the size of your file(s).\n",
    "'''"
   ]
  },
  {
   "cell_type": "markdown",
   "metadata": {},
   "source": [
    "# Step 4: Check out your transcription!\n",
    "\n",
    "The function below parses the output JSON and prints out the pure transcription of one of the files you just transcribed! (Make sure\n",
    "the file you're trying to examine is indeed already loaded into the\n",
    "folder on the left!)\n",
    "\n",
    "**Set the `OUTPUT` variable to the name of the file you wish to see the transcription of.**\n",
    "\n",
    "Then run this cell (`Shift`+`Enter`) to see a sentence-by-sentence transcription of your audio!"
   ]
  },
  {
   "cell_type": "code",
   "execution_count": null,
   "metadata": {},
   "outputs": [],
   "source": [
    "# Set this variable to the path of the output file you wish to read\n",
    "OUTPUT = 'Pick your favorite output json file :)'\n",
    "\n",
    "\n",
    "# The JSON is loaded with information, but if you just want to read the\n",
    "# transcript, run the code below!\n",
    "def print_transcript(transcription_file):\n",
    "  with open(transcription_file, \"r\") as file:\n",
    "        data = json.load(file)\n",
    "        result = data['results']['channels'][0]['alternatives'][0]['transcript']\n",
    "        result = result.split('.')\n",
    "        for sentence in result:\n",
    "          print(sentence + '.')\n",
    "\n",
    "print_transcript(OUTPUT)"
   ]
  }
 ],
 "metadata": {
  "kernelspec": {
   "display_name": "sdk",
   "language": "python",
   "name": "python3"
  },
  "language_info": {
   "codemirror_mode": {
    "name": "ipython",
    "version": 3
   },
   "file_extension": ".py",
   "mimetype": "text/x-python",
   "name": "python",
   "nbconvert_exporter": "python",
   "pygments_lexer": "ipython3",
   "version": "3.10.10"
  }
 },
 "nbformat": 4,
 "nbformat_minor": 2
}
